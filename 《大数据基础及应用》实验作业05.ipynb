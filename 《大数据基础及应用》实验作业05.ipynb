{
 "cells": [
  {
   "cell_type": "markdown",
   "id": "fd3d3b71",
   "metadata": {},
   "source": [
    "#  <center>《大数据基础及应用》实验作业05"
   ]
  },
  {
   "cell_type": "markdown",
   "id": "6843fb9e",
   "metadata": {},
   "source": [
    "**年级、专业、班级:** （双击可编辑，将括号替换为相应信息） **姓名:** （将括号替换为相应信息）  **学号:** （将括号替换为相应信息）\n",
    "    \n",
    "**实验练习题目：** 深度学习之卷积神经网络\n",
    "    \n",
    "**实验练习时间：** （将括号替换为相应信息） **实验练习地点:**  \n",
    "    \n",
    "**学期学年 ：**  2022-2023（2） **实验练习性质：** □验证性  ■设计性  □综合性\n",
    "    "
   ]
  },
  {
   "cell_type": "markdown",
   "id": "87460280",
   "metadata": {},
   "source": [
    "## 一、实验练习目的\n",
    "1)  掌握卷积神经网络原理；    \n",
    "2)  学会利用Keras框架构建卷积神经网络；   \n",
    "\n",
    "## 二、实验练习项目内容\n",
    "1、利用卷积神经网络对图片进行分类预测并评估;  \n",
    "2、数据集采用CIFAR-10;  \n",
    "3、数据集的使用方法见\"readme.html\"文档.\n",
    "\n",
    "\n",
    "## 三、实验练习的算法（伪代码或者流程图）和源程序"
   ]
  },
  {
   "cell_type": "code",
   "execution_count": 3,
   "id": "e9a9671f",
   "metadata": {},
   "outputs": [],
   "source": [
    "#请在此区域输入代码，代码编辑完成后点击运行，结果将会显示在该单元下方，一个问题一个单元。\n",
    "import keras\n",
    "from keras.datasets import cifar10\n",
    "# from keras.models import Sequential\n",
    "# from keras.layers import Conv2D, Dropout,MaxPooling2D, Flatten, Dense\n",
    "from keras.models import Sequential,load_model\n",
    "from keras.layers import Activation,Dropout,Flatten,Dense \n",
    "from keras.layers.convolutional import Conv2D,MaxPooling2D\n",
    "from keras.utils import np_utils\n",
    "import pickle\n",
    "import numpy as np"
   ]
  },
  {
   "cell_type": "code",
   "execution_count": 4,
   "id": "ec9e1678-bcb6-4a81-9bf3-c9e2b0723596",
   "metadata": {},
   "outputs": [],
   "source": [
    "def pixel2picture(dataList):\n",
    "    picList = []\n",
    "    for i in range(len(dataList)//3):\n",
    "        pican = np.array([dataList[0+i],dataList[1024+i],dataList[2048+i]]) \n",
    "        picList = np.append(picList,pican)\n",
    "    return picList.reshape(32,32,3)"
   ]
  },
  {
   "cell_type": "code",
   "execution_count": 5,
   "id": "e3180b33-e81e-4f5d-ad89-7f9b08d2ed76",
   "metadata": {},
   "outputs": [],
   "source": [
    "#读取训练集和测试集\n",
    "def unpickle(path):\n",
    "    x_train=[]\n",
    "    y_train=[]\n",
    "    x_test=[]\n",
    "    y_test=[]\n",
    "    data_batches=['data_batch_1','data_batch_2','data_batch_3','data_batch_4','data_batch_5']\n",
    "    for data_batch in data_batches:\n",
    "        with open(path+data_batch, 'rb') as fo:\n",
    "            dict_train = pickle.load(fo, encoding='bytes')\n",
    "            x_train.extend([pixel2picture(pixel) for pixel in dict_train[b'data']])\n",
    "            y_train.extend(dict_train[b'labels'])\n",
    "    with open(path+'test_batch', 'rb') as fo:\n",
    "            dict_test = pickle.load(fo, encoding='bytes')\n",
    "            x_test.extend([pixel2picture(pixel) for pixel in dict_test[b'data']])\n",
    "            y_test.extend(dict_test[b'labels'])\n",
    "    \n",
    "    x_train=np.array(x_train)\n",
    "    x_test=np.array(x_test)\n",
    "    x_train=x_train.astype('float32')/255\n",
    "    x_test=x_test.astype('float32')/255\n",
    "    \n",
    "    y_train=np_utils.to_categorical(y_train, num_classes=10)\n",
    "    y_test=np_utils.to_categorical(y_test, num_classes=10)\n",
    "    return x_train,y_train,x_test,y_test"
   ]
  },
  {
   "cell_type": "code",
   "execution_count": 6,
   "id": "eb13badd-fbf3-4637-8315-d08a9d9a6989",
   "metadata": {},
   "outputs": [],
   "source": [
    "def myTrain(x_train,y_train,x_test,y_test):\n",
    "    model = Sequential()\n",
    "    model.add(Conv2D(32, (5, 5), activation='relu', input_shape=(32, 32, 3)))\n",
    "    model.add(MaxPooling2D((2, 2)))\n",
    "    model.add(Conv2D(32, (5, 5), activation='relu'))\n",
    "    model.add(Dropout(0.25))\n",
    "    \n",
    "    model.add(Conv2D(64, (3, 3), activation='relu'))\n",
    "    model.add(MaxPooling2D((2, 2)))\n",
    "    model.add(Conv2D(64, (3, 3), activation='relu'))\n",
    "    model.add(Dropout(0.25))\n",
    "    \n",
    "    model.add(Flatten())\n",
    "    model.add(Dense(512, activation='relu'))\n",
    "    model.add(Dropout(0.5))\n",
    "    \n",
    "    model.add(Dense(10, activation='softmax'))\n",
    "    model.compile(optimizer='adam', loss='categorical_crossentropy', metrics=['accuracy'])\n",
    "    model.fit(x_train, y_train, epochs=10, batch_size=200)\n",
    "    \n",
    "    score=model.evaluate(x_test,y_test)\n",
    "    print(\"Test score:\", score[0])\n",
    "    print(\"Test accuracy:\", score[1])"
   ]
  },
  {
   "cell_type": "code",
   "execution_count": 7,
   "id": "2b4ab35a-d106-44f2-a097-4db403da9a62",
   "metadata": {},
   "outputs": [],
   "source": [
    "path = \"cifar-10-batches-py/\"\n",
    "x_train,y_train,x_test,y_test = unpickle(path)"
   ]
  },
  {
   "cell_type": "code",
   "execution_count": null,
   "id": "7b30f1ec-641b-4848-8c75-9c657a9f32c2",
   "metadata": {},
   "outputs": [
    {
     "name": "stdout",
     "output_type": "stream",
     "text": [
      "Epoch 1/10\n",
      "250/250 [==============================] - 138s 545ms/step - loss: 1.8422 - accuracy: 0.2981\n",
      "Epoch 2/10\n",
      "250/250 [==============================] - 135s 541ms/step - loss: 1.5269 - accuracy: 0.4307\n",
      "Epoch 3/10\n",
      "250/250 [==============================] - 136s 543ms/step - loss: 1.3905 - accuracy: 0.4928\n",
      "Epoch 4/10\n",
      "250/250 [==============================] - 135s 540ms/step - loss: 1.2969 - accuracy: 0.5305\n",
      "Epoch 5/10\n",
      "250/250 [==============================] - 135s 540ms/step - loss: 1.2402 - accuracy: 0.5549\n",
      "Epoch 6/10\n",
      "250/250 [==============================] - 136s 546ms/step - loss: 1.1761 - accuracy: 0.5815\n",
      "Epoch 7/10\n",
      "250/250 [==============================] - 140s 560ms/step - loss: 1.1345 - accuracy: 0.5948\n",
      "Epoch 8/10\n",
      "250/250 [==============================] - 140s 560ms/step - loss: 1.0907 - accuracy: 0.6104\n",
      "Epoch 9/10\n",
      "250/250 [==============================] - 136s 543ms/step - loss: 1.0643 - accuracy: 0.6218\n",
      "Epoch 10/10\n",
      "148/250 [================>.............] - ETA: 59s - loss: 1.0540 - accuracy: 0.6273"
     ]
    }
   ],
   "source": [
    "myTrain(x_train,y_train,x_test,y_test)"
   ]
  },
  {
   "cell_type": "markdown",
   "id": "9a806129",
   "metadata": {},
   "source": [
    "## 四、实验练习总结与体会"
   ]
  },
  {
   "cell_type": "markdown",
   "id": "7dba2dcb",
   "metadata": {},
   "source": [
    "1. 程序编写过程中遇到的问题及解决思路、方法等(若无请省略)  \n",
    "答:\n",
    "2. 作业总结和体会(必填)  \n",
    "答："
   ]
  }
 ],
 "metadata": {
  "hide_input": false,
  "kernelspec": {
   "display_name": "Python 3 (ipykernel)",
   "language": "python",
   "name": "python3"
  },
  "language_info": {
   "codemirror_mode": {
    "name": "ipython",
    "version": 3
   },
   "file_extension": ".py",
   "mimetype": "text/x-python",
   "name": "python",
   "nbconvert_exporter": "python",
   "pygments_lexer": "ipython3",
   "version": "3.7.9"
  }
 },
 "nbformat": 4,
 "nbformat_minor": 5
}
