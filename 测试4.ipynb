{
 "cells": [
  {
   "cell_type": "code",
   "execution_count": 1,
   "id": "9b2ac98c-e9cd-4866-9ad6-15ac1358cac3",
   "metadata": {},
   "outputs": [],
   "source": [
    "import numpy as np\n",
    "import pandas as pd\n",
    "from sklearn.feature_extraction.text import TfidfVectorizer\n",
    "from sklearn.naive_bayes import MultinomialNB\n",
    "from sklearn.model_selection import train_test_split\n",
    "from sklearn.feature_extraction.text import CountVectorizer\n",
    "from collections import defaultdict\n",
    "from sklearn.metrics import classification_report, confusion_matrix\n",
    "import matplotlib.pyplot as plt\n",
    "import seaborn as sns\n",
    "import warnings\n",
    "warnings.filterwarnings('ignore')"
   ]
  },
  {
   "cell_type": "code",
   "execution_count": 2,
   "id": "dbc31899-9431-4d8c-83f3-7a49b657723f",
   "metadata": {},
   "outputs": [],
   "source": [
    "#请在此区域输入代码，代码编辑完成后点击运行，结果将会显示在该单元下方，一个问题一个单元。\n",
    "#读取新闻训练集和测试集\n",
    "with open('sohu_train.txt', 'r',encoding=\"utf-8\") as f:\n",
    "    sohu_train = f.readlines()\n",
    "with open('sohu_test.txt', 'r',encoding=\"utf-8\") as f:\n",
    "    sohu_test = f.readlines()\n",
    "x_train=[]\n",
    "y_train=[]\n",
    "x_test=[]\n",
    "y_test=[]\n",
    "for new in sohu_train[1:]:\n",
    "    x_train.append(new.split(',')[2])\n",
    "    y_train.append(new.split(',')[1])\n",
    "for new in sohu_test[1:]:\n",
    "    x_test.append(new.split('\\t')[1])\n",
    "    y_test.append(new.split('\\t')[0])"
   ]
  },
  {
   "cell_type": "code",
   "execution_count": 22,
   "id": "2abe63ec-6dc2-4155-ba1f-f05415b08b1b",
   "metadata": {
    "collapsed": true,
    "jupyter": {
     "outputs_hidden": true
    },
    "tags": []
   },
   "outputs": [
    {
     "name": "stdout",
     "output_type": "stream",
     "text": [
      "  (0, 2557192)\t0.030832755361714155\n",
      "  (0, 2154220)\t0.007779918352759214\n",
      "  (0, 367191)\t0.05601108682783772\n",
      "  (0, 1040700)\t0.05190596812428182\n",
      "  (0, 2119869)\t0.05601108682783772\n",
      "  (0, 1480785)\t0.037980102423634164\n",
      "  (0, 1223269)\t0.05601108682783772\n",
      "  (0, 1543825)\t0.05601108682783772\n",
      "  (0, 1846080)\t0.05601108682783772\n",
      "  (0, 945134)\t0.05601108682783772\n",
      "  (0, 1520571)\t0.05601108682783772\n",
      "  (0, 1964257)\t0.05601108682783772\n",
      "  (0, 2061738)\t0.05601108682783772\n",
      "  (0, 1966765)\t0.05601108682783772\n",
      "  (0, 1297846)\t0.05601108682783772\n",
      "  (0, 780897)\t0.05601108682783772\n",
      "  (0, 453985)\t0.05601108682783772\n",
      "  (0, 1569273)\t0.05601108682783772\n",
      "  (0, 1817478)\t0.05601108682783772\n",
      "  (0, 942650)\t0.05601108682783772\n",
      "  (0, 1969453)\t0.05601108682783772\n",
      "  (0, 2335907)\t0.0549312993687707\n",
      "  (0, 1349022)\t0.05601108682783772\n",
      "  (0, 1777426)\t0.05601108682783772\n",
      "  (0, 1847027)\t0.05601108682783772\n",
      "  :\t:\n",
      "  (23548, 254656)\t0.08282409669192076\n",
      "  (23548, 167706)\t0.08282409669192076\n",
      "  (23548, 2395177)\t0.16203510001406926\n",
      "  (23548, 2395158)\t0.16203510001406926\n",
      "  (23548, 2395145)\t0.16203510001406926\n",
      "  (23548, 1420972)\t0.08282409669192076\n",
      "  (23548, 2395144)\t0.08282409669192076\n",
      "  (23548, 2395143)\t0.08282409669192076\n",
      "  (23548, 1420970)\t0.08218461196252973\n",
      "  (23548, 2336457)\t0.08218461196252973\n",
      "  (23548, 1377955)\t0.08158390839521253\n",
      "  (23548, 2395131)\t0.23992073254036445\n",
      "  (23548, 1927242)\t0.07414944969460767\n",
      "  (23548, 2379744)\t0.05943139950230733\n",
      "  (23548, 1761358)\t0.06120062571271143\n",
      "  (23548, 744186)\t0.07776254306437991\n",
      "  (23548, 1336491)\t0.07361372061756165\n",
      "  (23548, 2302570)\t0.06540623097544969\n",
      "  (23548, 2344134)\t0.05475099187489574\n",
      "  (23548, 913791)\t0.07663961737010645\n",
      "  (23548, 128833)\t0.045105498725216\n",
      "  (23548, 171056)\t0.04255678686604553\n",
      "  (23548, 184582)\t0.06474541453865701\n",
      "  (23548, 1618427)\t0.05754493132054537\n",
      "  (23548, 2154220)\t0.013016252032604363\n"
     ]
    }
   ],
   "source": [
    "# 将文本转换为数值特征\n",
    "vectorizer = TfidfVectorizer()\n",
    "x_train_transformed = vectorizer.fit_transform(x_train)\n",
    "print(x_train_transformed)\n",
    "x_test_transformed = vectorizer.transform(x_test)"
   ]
  },
  {
   "cell_type": "code",
   "execution_count": 4,
   "id": "1167d9de-3ad8-4e30-9483-5e1e48d17d4d",
   "metadata": {},
   "outputs": [
    {
     "name": "stdout",
     "output_type": "stream",
     "text": [
      "              precision    recall  f1-score   support\n",
      "\n",
      "          体育       0.97      0.94      0.96      1000\n",
      "          健康       0.91      0.83      0.87      1000\n",
      "          女人       0.91      0.91      0.91      1000\n",
      "          娱乐       0.83      0.87      0.85       999\n",
      "         房地产       0.81      0.76      0.78      1000\n",
      "          教育       0.88      0.89      0.89      1000\n",
      "          文化       0.90      0.75      0.82      1000\n",
      "          新闻       0.65      0.80      0.72      1000\n",
      "          旅游       0.96      0.83      0.89      1000\n",
      "          汽车       0.94      0.88      0.91      1000\n",
      "          科技       0.88      0.81      0.84      1000\n",
      "          财经       0.62      0.82      0.71      1000\n",
      "\n",
      "    accuracy                           0.84     11999\n",
      "   macro avg       0.85      0.84      0.84     11999\n",
      "weighted avg       0.85      0.84      0.84     11999\n",
      "\n"
     ]
    }
   ],
   "source": [
    "# 创建并训练模型\n",
    "model = MultinomialNB()\n",
    "model.fit(x_train_transformed, y_train)\n",
    "\n",
    "# 使用测试数据进行预测\n",
    "y_pred = model.predict(x_test_transformed)\n",
    "\n",
    "# 打印分类报告\n",
    "print(classification_report(y_test, y_pred))"
   ]
  },
  {
   "cell_type": "code",
   "execution_count": 23,
   "id": "d60b8c4e-0371-4509-a47f-a23fe138ea72",
   "metadata": {},
   "outputs": [],
   "source": [
    "class NaiveBayesClassifier:\n",
    "    def __init__(self, alpha=1.0):\n",
    "        self.alpha = alpha\n",
    "        self.class_log_prior_ = None\n",
    "        self.feature_log_prob_ = None\n",
    "        self.classes_ = None\n",
    "\n",
    "    def fit(self, X, y):\n",
    "        separated = [X[y == c] for c in np.unique(y)]\n",
    "        self.class_log_prior_ = [np.log(i.shape[0] / X.shape[0]) for i in separated]\n",
    "        self.feature_log_prob_ = []\n",
    "        self.classes_ = np.unique(y)\n",
    "        for i in separated:\n",
    "            count = np.sum(i, axis=0) + self.alpha\n",
    "            feature_prob = count / (np.sum(count) + self.alpha * X.shape[1])\n",
    "            self.feature_log_prob_.append(np.log(feature_prob))\n",
    "        self.feature_log_prob_ = np.array(self.feature_log_prob_).T\n",
    "        return self\n",
    "\n",
    "    def predict_log_proba(self, X):\n",
    "        return np.array([X.multiply(x).sum(axis=1) + c for x, c in zip(self.feature_log_prob_.T, self.class_log_prior_)])\n",
    "\n",
    "    def predict(self, X):\n",
    "        log_probs = self.predict_log_proba(X)\n",
    "        return self.classes_[np.argmax(log_probs, axis=0)]"
   ]
  },
  {
   "cell_type": "code",
   "execution_count": 24,
   "id": "68aeacc9-f35a-47d9-a210-f3e7f409294f",
   "metadata": {},
   "outputs": [
    {
     "name": "stdout",
     "output_type": "stream",
     "text": [
      "              precision    recall  f1-score   support\n",
      "\n",
      "          体育       0.08      1.00      0.15      1978\n",
      "          健康       0.00      0.00      0.00      2000\n",
      "          女人       0.00      0.00      0.00      1997\n",
      "          娱乐       0.00      0.00      0.00      1934\n",
      "         房地产       0.00      0.00      0.00      1872\n",
      "          教育       0.00      0.00      0.00      1979\n",
      "          文化       0.00      0.00      0.00      1995\n",
      "          新闻       0.00      0.00      0.00      1935\n",
      "          旅游       0.00      0.00      0.00      1998\n",
      "          汽车       0.00      0.00      0.00      1996\n",
      "          科技       0.00      0.00      0.00      1988\n",
      "          财经       0.00      0.00      0.00      1877\n",
      "\n",
      "    accuracy                           0.08     23549\n",
      "   macro avg       0.01      0.08      0.01     23549\n",
      "weighted avg       0.01      0.08      0.01     23549\n",
      "\n",
      "              precision    recall  f1-score   support\n",
      "\n",
      "          体育       0.08      1.00      0.15      1000\n",
      "          健康       0.00      0.00      0.00      1000\n",
      "          女人       0.00      0.00      0.00      1000\n",
      "          娱乐       0.00      0.00      0.00       999\n",
      "         房地产       0.00      0.00      0.00      1000\n",
      "          教育       0.00      0.00      0.00      1000\n",
      "          文化       0.00      0.00      0.00      1000\n",
      "          新闻       0.00      0.00      0.00      1000\n",
      "          旅游       0.00      0.00      0.00      1000\n",
      "          汽车       0.00      0.00      0.00      1000\n",
      "          科技       0.00      0.00      0.00      1000\n",
      "          财经       0.00      0.00      0.00      1000\n",
      "\n",
      "    accuracy                           0.08     11999\n",
      "   macro avg       0.01      0.08      0.01     11999\n",
      "weighted avg       0.01      0.08      0.01     11999\n",
      "\n"
     ]
    }
   ],
   "source": [
    "# 创建并训练模型\n",
    "model = NaiveBayesClassifier()\n",
    "model.fit(x_train_transformed, y_train)\n",
    "y1=model.predict(x_train_transformed)\n",
    "print(classification_report(y_train, y1))\n",
    "\n",
    "# 使用测试数据进行预测\n",
    "y_pred = model.predict(x_test_transformed)\n",
    "\n",
    "# 打印分类报告\n",
    "print(classification_report(y_test, y_pred))"
   ]
  },
  {
   "cell_type": "code",
   "execution_count": null,
   "id": "f5c904ac-c5b1-4833-9d76-7ac55e4bd10a",
   "metadata": {},
   "outputs": [],
   "source": []
  }
 ],
 "metadata": {
  "kernelspec": {
   "display_name": "Python 3 (ipykernel)",
   "language": "python",
   "name": "python3"
  },
  "language_info": {
   "codemirror_mode": {
    "name": "ipython",
    "version": 3
   },
   "file_extension": ".py",
   "mimetype": "text/x-python",
   "name": "python",
   "nbconvert_exporter": "python",
   "pygments_lexer": "ipython3",
   "version": "3.7.9"
  }
 },
 "nbformat": 4,
 "nbformat_minor": 5
}
